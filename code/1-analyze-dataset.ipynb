{
 "cells": [
  {
   "cell_type": "code",
   "execution_count": 31,
   "metadata": {},
   "outputs": [],
   "source": [
    "import pandas as pd\n",
    "pd.set_option('display.max_columns', 30)\n",
    "from datetime import datetime\n",
    "%matplotlib inline"
   ]
  },
  {
   "cell_type": "code",
   "execution_count": 32,
   "metadata": {},
   "outputs": [],
   "source": [
    "df_visit_logs = pd.read_csv(\"../data/visit_log.csv\")"
   ]
  },
  {
   "cell_type": "code",
   "execution_count": 33,
   "metadata": {},
   "outputs": [
    {
     "data": {
      "text/html": [
       "<div>\n",
       "<style>\n",
       "    .dataframe thead tr:only-child th {\n",
       "        text-align: right;\n",
       "    }\n",
       "\n",
       "    .dataframe thead th {\n",
       "        text-align: left;\n",
       "    }\n",
       "\n",
       "    .dataframe tbody tr th {\n",
       "        vertical-align: top;\n",
       "    }\n",
       "</style>\n",
       "<table border=\"1\" class=\"dataframe\">\n",
       "  <thead>\n",
       "    <tr style=\"text-align: right;\">\n",
       "      <th></th>\n",
       "      <th>browser</th>\n",
       "      <th>browser_version</th>\n",
       "      <th>current_url</th>\n",
       "      <th>device_description</th>\n",
       "      <th>end</th>\n",
       "      <th>host_ip</th>\n",
       "      <th>mac_address</th>\n",
       "      <th>max_packet_size</th>\n",
       "      <th>min_packet_size</th>\n",
       "      <th>network_interface</th>\n",
       "      <th>num_packets</th>\n",
       "      <th>num_tcp_connections</th>\n",
       "      <th>num_tcp_connections_http2</th>\n",
       "      <th>num_tcp_connections_to_website_tld</th>\n",
       "      <th>os_version</th>\n",
       "      <th>page_loaded</th>\n",
       "      <th>page_source_length</th>\n",
       "      <th>sslkeylog_exists</th>\n",
       "      <th>start</th>\n",
       "      <th>title</th>\n",
       "      <th>url</th>\n",
       "      <th>user_agent</th>\n",
       "      <th>visit_id</th>\n",
       "      <th>duration</th>\n",
       "      <th>page_load_duration</th>\n",
       "      <th>host</th>\n",
       "      <th>Browser</th>\n",
       "      <th>OS</th>\n",
       "      <th>Device</th>\n",
       "      <th>client_id</th>\n",
       "    </tr>\n",
       "  </thead>\n",
       "  <tbody>\n",
       "    <tr>\n",
       "      <th>0</th>\n",
       "      <td>Chrome</td>\n",
       "      <td>67.0.3396.99</td>\n",
       "      <td>https://www.mayoclinic.org/es-es/diseases-cond...</td>\n",
       "      <td>vm</td>\n",
       "      <td>1.530823e+09</td>\n",
       "      <td>172.16.78.130</td>\n",
       "      <td>00:0c:29:09:93:21</td>\n",
       "      <td>1460</td>\n",
       "      <td>-1460</td>\n",
       "      <td>ens33</td>\n",
       "      <td>2274</td>\n",
       "      <td>37</td>\n",
       "      <td>18</td>\n",
       "      <td>2</td>\n",
       "      <td>Ubuntu 18.04 LTS</td>\n",
       "      <td>1.530823e+09</td>\n",
       "      <td>58122</td>\n",
       "      <td>True</td>\n",
       "      <td>1.530823e+09</td>\n",
       "      <td>Trastorno esquizoafectivo - Síntomas y causas ...</td>\n",
       "      <td>https://www.mayoclinic.org/es-es/diseases-cond...</td>\n",
       "      <td>Mozilla/5.0 (X11; Linux x86_64) AppleWebKit/53...</td>\n",
       "      <td>1530823113_428-00_0c_29_09_93_21</td>\n",
       "      <td>5.524876</td>\n",
       "      <td>2.490026</td>\n",
       "      <td>www.mayoclinic.org</td>\n",
       "      <td>Chrome (67.0.3396.99)</td>\n",
       "      <td>Ubuntu 18.04 LTS</td>\n",
       "      <td>vm</td>\n",
       "      <td>5</td>\n",
       "    </tr>\n",
       "    <tr>\n",
       "      <th>1</th>\n",
       "      <td>Opera</td>\n",
       "      <td>67.0.3396.87</td>\n",
       "      <td>https://www.mayoclinic.org/es-es/diseases-cond...</td>\n",
       "      <td>vm</td>\n",
       "      <td>1.530823e+09</td>\n",
       "      <td>172.16.78.130</td>\n",
       "      <td>00:0c:29:09:93:21</td>\n",
       "      <td>1460</td>\n",
       "      <td>-1460</td>\n",
       "      <td>ens33</td>\n",
       "      <td>1860</td>\n",
       "      <td>39</td>\n",
       "      <td>17</td>\n",
       "      <td>2</td>\n",
       "      <td>Ubuntu 18.04 LTS</td>\n",
       "      <td>1.530823e+09</td>\n",
       "      <td>59436</td>\n",
       "      <td>True</td>\n",
       "      <td>1.530823e+09</td>\n",
       "      <td>Trastorno esquizoafectivo - Síntomas y causas ...</td>\n",
       "      <td>https://www.mayoclinic.org/es-es/diseases-cond...</td>\n",
       "      <td>Mozilla/5.0 (X11; Linux x86_64) AppleWebKit/53...</td>\n",
       "      <td>1530823123_376-00_0c_29_09_93_21</td>\n",
       "      <td>5.700306</td>\n",
       "      <td>2.664391</td>\n",
       "      <td>www.mayoclinic.org</td>\n",
       "      <td>Opera (67.0.3396.87)</td>\n",
       "      <td>Ubuntu 18.04 LTS</td>\n",
       "      <td>vm</td>\n",
       "      <td>16</td>\n",
       "    </tr>\n",
       "    <tr>\n",
       "      <th>2</th>\n",
       "      <td>Firefox</td>\n",
       "      <td>61.0</td>\n",
       "      <td>https://www.mayoclinic.org/departments-centers...</td>\n",
       "      <td>vm</td>\n",
       "      <td>1.530823e+09</td>\n",
       "      <td>172.16.78.130</td>\n",
       "      <td>00:0c:29:09:93:21</td>\n",
       "      <td>1460</td>\n",
       "      <td>-1460</td>\n",
       "      <td>ens33</td>\n",
       "      <td>1208</td>\n",
       "      <td>21</td>\n",
       "      <td>7</td>\n",
       "      <td>1</td>\n",
       "      <td>Ubuntu 18.04 LTS</td>\n",
       "      <td>1.530823e+09</td>\n",
       "      <td>17681</td>\n",
       "      <td>True</td>\n",
       "      <td>1.530823e+09</td>\n",
       "      <td>Overview - Gastroenterologic and General Surge...</td>\n",
       "      <td>https://www.mayoclinic.org/departments-centers...</td>\n",
       "      <td>Mozilla/5.0 (X11; Linux x86_64; rv:61.0) Gecko...</td>\n",
       "      <td>1530823165_570-00_0c_29_09_93_21</td>\n",
       "      <td>4.065543</td>\n",
       "      <td>1.047601</td>\n",
       "      <td>www.mayoclinic.org</td>\n",
       "      <td>Firefox (61.0)</td>\n",
       "      <td>Ubuntu 18.04 LTS</td>\n",
       "      <td>vm</td>\n",
       "      <td>10</td>\n",
       "    </tr>\n",
       "    <tr>\n",
       "      <th>3</th>\n",
       "      <td>Chrome</td>\n",
       "      <td>67.0.3396.99</td>\n",
       "      <td>https://www.mayoclinic.org/departments-centers...</td>\n",
       "      <td>vm</td>\n",
       "      <td>1.530823e+09</td>\n",
       "      <td>172.16.78.130</td>\n",
       "      <td>00:0c:29:09:93:21</td>\n",
       "      <td>1460</td>\n",
       "      <td>-833</td>\n",
       "      <td>ens33</td>\n",
       "      <td>576</td>\n",
       "      <td>14</td>\n",
       "      <td>6</td>\n",
       "      <td>2</td>\n",
       "      <td>Ubuntu 18.04 LTS</td>\n",
       "      <td>1.530823e+09</td>\n",
       "      <td>17675</td>\n",
       "      <td>True</td>\n",
       "      <td>1.530823e+09</td>\n",
       "      <td>Overview - Gastroenterologic and General Surge...</td>\n",
       "      <td>https://www.mayoclinic.org/departments-centers...</td>\n",
       "      <td>Mozilla/5.0 (X11; Linux x86_64) AppleWebKit/53...</td>\n",
       "      <td>1530823174_344-00_0c_29_09_93_21</td>\n",
       "      <td>3.687062</td>\n",
       "      <td>0.652608</td>\n",
       "      <td>www.mayoclinic.org</td>\n",
       "      <td>Chrome (67.0.3396.99)</td>\n",
       "      <td>Ubuntu 18.04 LTS</td>\n",
       "      <td>vm</td>\n",
       "      <td>5</td>\n",
       "    </tr>\n",
       "    <tr>\n",
       "      <th>4</th>\n",
       "      <td>Opera</td>\n",
       "      <td>67.0.3396.87</td>\n",
       "      <td>https://www.mayoclinic.org/departments-centers...</td>\n",
       "      <td>vm</td>\n",
       "      <td>1.530823e+09</td>\n",
       "      <td>172.16.78.130</td>\n",
       "      <td>00:0c:29:09:93:21</td>\n",
       "      <td>1460</td>\n",
       "      <td>-850</td>\n",
       "      <td>ens33</td>\n",
       "      <td>651</td>\n",
       "      <td>15</td>\n",
       "      <td>6</td>\n",
       "      <td>2</td>\n",
       "      <td>Ubuntu 18.04 LTS</td>\n",
       "      <td>1.530823e+09</td>\n",
       "      <td>17675</td>\n",
       "      <td>True</td>\n",
       "      <td>1.530823e+09</td>\n",
       "      <td>Overview - Gastroenterologic and General Surge...</td>\n",
       "      <td>https://www.mayoclinic.org/departments-centers...</td>\n",
       "      <td>Mozilla/5.0 (X11; Linux x86_64) AppleWebKit/53...</td>\n",
       "      <td>1530823181_323-00_0c_29_09_93_21</td>\n",
       "      <td>3.746505</td>\n",
       "      <td>0.719918</td>\n",
       "      <td>www.mayoclinic.org</td>\n",
       "      <td>Opera (67.0.3396.87)</td>\n",
       "      <td>Ubuntu 18.04 LTS</td>\n",
       "      <td>vm</td>\n",
       "      <td>16</td>\n",
       "    </tr>\n",
       "  </tbody>\n",
       "</table>\n",
       "</div>"
      ],
      "text/plain": [
       "   browser browser_version                                        current_url  \\\n",
       "0   Chrome    67.0.3396.99  https://www.mayoclinic.org/es-es/diseases-cond...   \n",
       "1    Opera    67.0.3396.87  https://www.mayoclinic.org/es-es/diseases-cond...   \n",
       "2  Firefox            61.0  https://www.mayoclinic.org/departments-centers...   \n",
       "3   Chrome    67.0.3396.99  https://www.mayoclinic.org/departments-centers...   \n",
       "4    Opera    67.0.3396.87  https://www.mayoclinic.org/departments-centers...   \n",
       "\n",
       "  device_description           end        host_ip        mac_address  \\\n",
       "0                 vm  1.530823e+09  172.16.78.130  00:0c:29:09:93:21   \n",
       "1                 vm  1.530823e+09  172.16.78.130  00:0c:29:09:93:21   \n",
       "2                 vm  1.530823e+09  172.16.78.130  00:0c:29:09:93:21   \n",
       "3                 vm  1.530823e+09  172.16.78.130  00:0c:29:09:93:21   \n",
       "4                 vm  1.530823e+09  172.16.78.130  00:0c:29:09:93:21   \n",
       "\n",
       "   max_packet_size  min_packet_size network_interface  num_packets  \\\n",
       "0             1460            -1460             ens33         2274   \n",
       "1             1460            -1460             ens33         1860   \n",
       "2             1460            -1460             ens33         1208   \n",
       "3             1460             -833             ens33          576   \n",
       "4             1460             -850             ens33          651   \n",
       "\n",
       "   num_tcp_connections  num_tcp_connections_http2  \\\n",
       "0                   37                         18   \n",
       "1                   39                         17   \n",
       "2                   21                          7   \n",
       "3                   14                          6   \n",
       "4                   15                          6   \n",
       "\n",
       "   num_tcp_connections_to_website_tld        os_version   page_loaded  \\\n",
       "0                                   2  Ubuntu 18.04 LTS  1.530823e+09   \n",
       "1                                   2  Ubuntu 18.04 LTS  1.530823e+09   \n",
       "2                                   1  Ubuntu 18.04 LTS  1.530823e+09   \n",
       "3                                   2  Ubuntu 18.04 LTS  1.530823e+09   \n",
       "4                                   2  Ubuntu 18.04 LTS  1.530823e+09   \n",
       "\n",
       "   page_source_length  sslkeylog_exists         start  \\\n",
       "0               58122              True  1.530823e+09   \n",
       "1               59436              True  1.530823e+09   \n",
       "2               17681              True  1.530823e+09   \n",
       "3               17675              True  1.530823e+09   \n",
       "4               17675              True  1.530823e+09   \n",
       "\n",
       "                                               title  \\\n",
       "0  Trastorno esquizoafectivo - Síntomas y causas ...   \n",
       "1  Trastorno esquizoafectivo - Síntomas y causas ...   \n",
       "2  Overview - Gastroenterologic and General Surge...   \n",
       "3  Overview - Gastroenterologic and General Surge...   \n",
       "4  Overview - Gastroenterologic and General Surge...   \n",
       "\n",
       "                                                 url  \\\n",
       "0  https://www.mayoclinic.org/es-es/diseases-cond...   \n",
       "1  https://www.mayoclinic.org/es-es/diseases-cond...   \n",
       "2  https://www.mayoclinic.org/departments-centers...   \n",
       "3  https://www.mayoclinic.org/departments-centers...   \n",
       "4  https://www.mayoclinic.org/departments-centers...   \n",
       "\n",
       "                                          user_agent  \\\n",
       "0  Mozilla/5.0 (X11; Linux x86_64) AppleWebKit/53...   \n",
       "1  Mozilla/5.0 (X11; Linux x86_64) AppleWebKit/53...   \n",
       "2  Mozilla/5.0 (X11; Linux x86_64; rv:61.0) Gecko...   \n",
       "3  Mozilla/5.0 (X11; Linux x86_64) AppleWebKit/53...   \n",
       "4  Mozilla/5.0 (X11; Linux x86_64) AppleWebKit/53...   \n",
       "\n",
       "                           visit_id  duration  page_load_duration  \\\n",
       "0  1530823113_428-00_0c_29_09_93_21  5.524876            2.490026   \n",
       "1  1530823123_376-00_0c_29_09_93_21  5.700306            2.664391   \n",
       "2  1530823165_570-00_0c_29_09_93_21  4.065543            1.047601   \n",
       "3  1530823174_344-00_0c_29_09_93_21  3.687062            0.652608   \n",
       "4  1530823181_323-00_0c_29_09_93_21  3.746505            0.719918   \n",
       "\n",
       "                 host                Browser                OS Device  \\\n",
       "0  www.mayoclinic.org  Chrome (67.0.3396.99)  Ubuntu 18.04 LTS     vm   \n",
       "1  www.mayoclinic.org   Opera (67.0.3396.87)  Ubuntu 18.04 LTS     vm   \n",
       "2  www.mayoclinic.org         Firefox (61.0)  Ubuntu 18.04 LTS     vm   \n",
       "3  www.mayoclinic.org  Chrome (67.0.3396.99)  Ubuntu 18.04 LTS     vm   \n",
       "4  www.mayoclinic.org   Opera (67.0.3396.87)  Ubuntu 18.04 LTS     vm   \n",
       "\n",
       "   client_id  \n",
       "0          5  \n",
       "1         16  \n",
       "2         10  \n",
       "3          5  \n",
       "4         16  "
      ]
     },
     "execution_count": 33,
     "metadata": {},
     "output_type": "execute_result"
    }
   ],
   "source": [
    "df_visit_logs.head()"
   ]
  },
  {
   "cell_type": "code",
   "execution_count": 34,
   "metadata": {},
   "outputs": [
    {
     "data": {
      "text/plain": [
       "array(['Chrome', 'Opera', 'Firefox', 'IE', 'Safari', 'Edge'], dtype=object)"
      ]
     },
     "execution_count": 34,
     "metadata": {},
     "output_type": "execute_result"
    }
   ],
   "source": [
    "df_visit_logs.browser.unique()"
   ]
  },
  {
   "cell_type": "code",
   "execution_count": 35,
   "metadata": {},
   "outputs": [
    {
     "data": {
      "text/plain": [
       "186200"
      ]
     },
     "execution_count": 35,
     "metadata": {},
     "output_type": "execute_result"
    }
   ],
   "source": [
    "len(df_visit_logs)"
   ]
  },
  {
   "cell_type": "code",
   "execution_count": 36,
   "metadata": {},
   "outputs": [],
   "source": [
    "assert len(df_visit_logs.client_id.unique()) == 19\n",
    "assert len(df_visit_logs.host.unique()) == 7\n",
    "assert len(df_visit_logs.current_url.unique()) == 350\n",
    "assert all(df_visit_logs.groupby([\"client_id\",\"url\"]).size() == 28) #each URL was visited 28 times using each client"
   ]
  },
  {
   "cell_type": "code",
   "execution_count": 37,
   "metadata": {},
   "outputs": [
    {
     "data": {
      "text/plain": [
       "<matplotlib.text.Text at 0x7ff09b208f60>"
      ]
     },
     "execution_count": 37,
     "metadata": {},
     "output_type": "execute_result"
    },
    {
     "data": {
      "image/png": "[encoded data removed]",
      "text/plain": [
       "<matplotlib.figure.Figure at 0x7ff09b200320>"
      ]
     },
     "metadata": {
      "needs_background": "light"
     },
     "output_type": "display_data"
    }
   ],
   "source": [
    "s = pd.Series(list(map(lambda x: datetime.fromtimestamp(x), df_visit_logs.start)))\n",
    "ax = s.hist(figsize=(12,6))\n",
    "ax.set_xlabel(\"Date\")\n",
    "ax.set_ylabel(\"Samples\")"
   ]
  },
  {
   "cell_type": "code",
   "execution_count": 38,
   "metadata": {},
   "outputs": [
    {
     "name": "stdout",
     "output_type": "stream",
     "text": [
      "first and last sample timestamps:\n"
     ]
    },
    {
     "data": {
      "text/plain": [
       "(Timestamp('2018-07-05 16:38:36.512648'),\n",
       " Timestamp('2018-07-14 03:23:27.499484'))"
      ]
     },
     "execution_count": 38,
     "metadata": {},
     "output_type": "execute_result"
    }
   ],
   "source": [
    "print(\"first and last sample timestamps:\")\n",
    "s.iloc[0], s.iloc[-1]"
   ]
  }
 ],
 "metadata": {
  "kernelspec": {
   "display_name": "Python 3",
   "language": "python",
   "name": "python3"
  },
  "language_info": {
   "codemirror_mode": {
    "name": "ipython",
    "version": 3
   },
   "file_extension": ".py",
   "mimetype": "text/x-python",
   "name": "python",
   "nbconvert_exporter": "python",
   "pygments_lexer": "ipython3",
   "version": "3.6.6"
  }
 },
 "nbformat": 4,
 "nbformat_minor": 2
}
