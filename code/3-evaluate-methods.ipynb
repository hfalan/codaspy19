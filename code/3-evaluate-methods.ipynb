{
 "cells": [
  {
   "cell_type": "code",
   "execution_count": 3,
   "metadata": {},
   "outputs": [
    {
     "name": "stdout",
     "output_type": "stream",
     "text": [
      "Overwriting evaluate.py\n"
     ]
    }
   ],
   "source": [
    "%%writefile evaluate.py\n",
    "import sys, os, time, random\n",
    "from glob import glob\n",
    "import utils\n",
    "sys.path.insert(0, \"webpage_fingerprinting_methods/\")\n",
    "import webpage_fingerprinting_methods\n",
    "methods = webpage_fingerprinting_methods.methods\n",
    "\n",
    "method_name_to_method = {method.get_name():method for method in methods}\n",
    "\n",
    "def classify(method, output_dir, training_visit_files, test_visit_files, visit_file_label, n_cpu):\n",
    "    assert not (set(training_visit_files) & set(test_visit_files))\n",
    "    score = method().classify(training_visit_files, test_visit_files, visit_file_label, output_dir, n_cpu)\n",
    "    return score\n",
    "\n",
    "def classify_wrapper(scenario_file):\n",
    "    try:\n",
    "        scenario = utils.load_json(scenario_file)\n",
    "        if \"accuracy\" in scenario:\n",
    "            return True\n",
    "        training_visit_files, test_visit_files, visit_file_label = utils.load_pickle(\n",
    "            os.path.join(scenario['output_dir'], \"split.pickle\")\n",
    "        )\n",
    "        print(len(training_visit_files), len(test_visit_files), len(visit_file_label))\n",
    "        assert not set(training_visit_files) & set(test_visit_files)\n",
    "\n",
    "        \n",
    "        start = time.time()\n",
    "        accuracy = classify(method_name_to_method[scenario['method']],\n",
    "                scenario['output_dir'],\n",
    "                training_visit_files,\n",
    "                test_visit_files,\n",
    "                visit_file_label,\n",
    "                6)\n",
    "        end = time.time()\n",
    "        scenario['accuracy'] = accuracy\n",
    "        scenario['classification_time'] = end-start\n",
    "        print(scenario)\n",
    "        utils.dump_json(scenario, scenario_file)\n",
    "        return True\n",
    "    except Exception as e:\n",
    "        print(e)\n",
    "        pass\n",
    "    \n",
    "scenarios_dir = \"../data/scenarios/\"\n",
    "scenario_files = glob(scenarios_dir+\"/*/*/*.json\")\n",
    "random.shuffle(scenario_files)\n",
    "for scenario_file in scenario_files:\n",
    "    classify_wrapper(scenario_file)\n",
    "# from concurrent.futures import ProcessPoolExecutor as Pool\n",
    "# with Pool(20) as pool:\n",
    "#     pool.map(classify_wrapper, scenario_files)"
   ]
  },
  {
   "cell_type": "code",
   "execution_count": 4,
   "metadata": {},
   "outputs": [],
   "source": [
    "from glob import glob\n",
    "import pandas as pd\n",
    "import utils"
   ]
  },
  {
   "cell_type": "code",
   "execution_count": 5,
   "metadata": {},
   "outputs": [],
   "source": [
    "result_files = glob(\"../data/scenarios/*/*/*.json\")"
   ]
  },
  {
   "cell_type": "code",
   "execution_count": 6,
   "metadata": {},
   "outputs": [],
   "source": [
    "df_results = pd.DataFrame(list(map(utils.load_json, result_files)))\n",
    "df_results.loc[df_results.method != \"BoG\", 'accuracy'] *= 100\n",
    "df_results['host_label'] = df_results['host'].apply(lambda x: utils.host_label[x])"
   ]
  },
  {
   "cell_type": "code",
   "execution_count": 7,
   "metadata": {},
   "outputs": [
    {
     "data": {
      "text/plain": [
       "(22848, 22848)"
      ]
     },
     "execution_count": 7,
     "metadata": {},
     "output_type": "execute_result"
    }
   ],
   "source": [
    "len(df_results.dropna(subset=[\"accuracy\"])), len(df_results)"
   ]
  },
  {
   "cell_type": "code",
   "execution_count": 8,
   "metadata": {},
   "outputs": [],
   "source": [
    "df_results.dropna(subset=['accuracy'],inplace=True)"
   ]
  },
  {
   "cell_type": "code",
   "execution_count": 9,
   "metadata": {},
   "outputs": [
    {
     "data": {
      "text/html": [
       "<div>\n",
       "<style>\n",
       "    .dataframe thead tr:only-child th {\n",
       "        text-align: right;\n",
       "    }\n",
       "\n",
       "    .dataframe thead th {\n",
       "        text-align: left;\n",
       "    }\n",
       "\n",
       "    .dataframe tbody tr th {\n",
       "        vertical-align: top;\n",
       "    }\n",
       "</style>\n",
       "<table border=\"1\" class=\"dataframe\">\n",
       "  <thead>\n",
       "    <tr style=\"text-align: right;\">\n",
       "      <th></th>\n",
       "      <th>accuracy</th>\n",
       "      <th>classification_time</th>\n",
       "      <th>host</th>\n",
       "      <th>method</th>\n",
       "      <th>name</th>\n",
       "      <th>output_dir</th>\n",
       "      <th>test_client_id</th>\n",
       "      <th>training_client_ids</th>\n",
       "      <th>host_label</th>\n",
       "    </tr>\n",
       "  </thead>\n",
       "  <tbody>\n",
       "    <tr>\n",
       "      <th>0</th>\n",
       "      <td>97.714286</td>\n",
       "      <td>9.718208</td>\n",
       "      <td>www.mayoclinic.org</td>\n",
       "      <td>LL</td>\n",
       "      <td>train_one_test_one</td>\n",
       "      <td>../data/scenarios2/69/train_one_test_one_LL_ww...</td>\n",
       "      <td>6</td>\n",
       "      <td>[6]</td>\n",
       "      <td>Mayo\\nClinic</td>\n",
       "    </tr>\n",
       "    <tr>\n",
       "      <th>1</th>\n",
       "      <td>41.714286</td>\n",
       "      <td>99.014383</td>\n",
       "      <td>www.bankofamerica.com</td>\n",
       "      <td>Wfin</td>\n",
       "      <td>train_one_test_one</td>\n",
       "      <td>../data/scenarios2/69/train_one_test_one_Wfin_...</td>\n",
       "      <td>17</td>\n",
       "      <td>[9]</td>\n",
       "      <td>Bank of\\nAmerica</td>\n",
       "    </tr>\n",
       "    <tr>\n",
       "      <th>2</th>\n",
       "      <td>100.000000</td>\n",
       "      <td>10.797168</td>\n",
       "      <td>www.bankofamerica.com</td>\n",
       "      <td>PS</td>\n",
       "      <td>train_one_test_one</td>\n",
       "      <td>../data/scenarios2/69/train_one_test_one_PS_ww...</td>\n",
       "      <td>4</td>\n",
       "      <td>[4]</td>\n",
       "      <td>Bank of\\nAmerica</td>\n",
       "    </tr>\n",
       "    <tr>\n",
       "      <th>3</th>\n",
       "      <td>50.285714</td>\n",
       "      <td>76.695425</td>\n",
       "      <td>www.wellsfargo.com</td>\n",
       "      <td>CUMUL</td>\n",
       "      <td>train_one_test_one</td>\n",
       "      <td>../data/scenarios2/69/train_one_test_one_CUMUL...</td>\n",
       "      <td>13</td>\n",
       "      <td>[13]</td>\n",
       "      <td>Wells\\nFargo</td>\n",
       "    </tr>\n",
       "    <tr>\n",
       "      <th>4</th>\n",
       "      <td>8.285714</td>\n",
       "      <td>15.580510</td>\n",
       "      <td>www.plannedparenthood.org</td>\n",
       "      <td>IPS</td>\n",
       "      <td>train_one_test_one</td>\n",
       "      <td>../data/scenarios2/69/train_one_test_one_IPS_w...</td>\n",
       "      <td>2</td>\n",
       "      <td>[6]</td>\n",
       "      <td>Planned\\nParenthood</td>\n",
       "    </tr>\n",
       "  </tbody>\n",
       "</table>\n",
       "</div>"
      ],
      "text/plain": [
       "     accuracy  classification_time                       host method  \\\n",
       "0   97.714286             9.718208         www.mayoclinic.org     LL   \n",
       "1   41.714286            99.014383      www.bankofamerica.com   Wfin   \n",
       "2  100.000000            10.797168      www.bankofamerica.com     PS   \n",
       "3   50.285714            76.695425         www.wellsfargo.com  CUMUL   \n",
       "4    8.285714            15.580510  www.plannedparenthood.org    IPS   \n",
       "\n",
       "                 name                                         output_dir  \\\n",
       "0  train_one_test_one  ../data/scenarios2/69/train_one_test_one_LL_ww...   \n",
       "1  train_one_test_one  ../data/scenarios2/69/train_one_test_one_Wfin_...   \n",
       "2  train_one_test_one  ../data/scenarios2/69/train_one_test_one_PS_ww...   \n",
       "3  train_one_test_one  ../data/scenarios2/69/train_one_test_one_CUMUL...   \n",
       "4  train_one_test_one  ../data/scenarios2/69/train_one_test_one_IPS_w...   \n",
       "\n",
       "   test_client_id training_client_ids           host_label  \n",
       "0               6                 [6]         Mayo\\nClinic  \n",
       "1              17                 [9]     Bank of\\nAmerica  \n",
       "2               4                 [4]     Bank of\\nAmerica  \n",
       "3              13                [13]         Wells\\nFargo  \n",
       "4               2                 [6]  Planned\\nParenthood  "
      ]
     },
     "execution_count": 9,
     "metadata": {},
     "output_type": "execute_result"
    }
   ],
   "source": [
    "df_results.head()"
   ]
  },
  {
   "cell_type": "code",
   "execution_count": 10,
   "metadata": {},
   "outputs": [
    {
     "data": {
      "text/plain": [
       "method\n",
       "BoG      2856\n",
       "CUMUL    2856\n",
       "IPS      2856\n",
       "KFP      2856\n",
       "LL       2856\n",
       "OPS      2856\n",
       "PS       2856\n",
       "Wfin     2856\n",
       "dtype: int64"
      ]
     },
     "execution_count": 10,
     "metadata": {},
     "output_type": "execute_result"
    }
   ],
   "source": [
    "df_results.groupby(\"method\").size()"
   ]
  },
  {
   "cell_type": "code",
   "execution_count": 11,
   "metadata": {},
   "outputs": [],
   "source": [
    "df_results.to_csv(\"../data/results.csv\",index=False)"
   ]
  },
  {
   "cell_type": "code",
   "execution_count": 9,
   "metadata": {},
   "outputs": [
    {
     "data": {
      "text/html": [
       "<div>\n",
       "<style>\n",
       "    .dataframe thead tr:only-child th {\n",
       "        text-align: right;\n",
       "    }\n",
       "\n",
       "    .dataframe thead th {\n",
       "        text-align: left;\n",
       "    }\n",
       "\n",
       "    .dataframe tbody tr th {\n",
       "        vertical-align: top;\n",
       "    }\n",
       "</style>\n",
       "<table border=\"1\" class=\"dataframe\">\n",
       "  <thead>\n",
       "    <tr>\n",
       "      <th></th>\n",
       "      <th colspan=\"3\" halign=\"left\">classification_time</th>\n",
       "    </tr>\n",
       "    <tr>\n",
       "      <th></th>\n",
       "      <th>mean</th>\n",
       "      <th>min</th>\n",
       "      <th>max</th>\n",
       "    </tr>\n",
       "    <tr>\n",
       "      <th>method</th>\n",
       "      <th></th>\n",
       "      <th></th>\n",
       "      <th></th>\n",
       "    </tr>\n",
       "  </thead>\n",
       "  <tbody>\n",
       "    <tr>\n",
       "      <th>BoG</th>\n",
       "      <td>337.905256</td>\n",
       "      <td>29.160764</td>\n",
       "      <td>7998.894416</td>\n",
       "    </tr>\n",
       "    <tr>\n",
       "      <th>CUMUL</th>\n",
       "      <td>362.895109</td>\n",
       "      <td>47.258360</td>\n",
       "      <td>13316.693496</td>\n",
       "    </tr>\n",
       "    <tr>\n",
       "      <th>IPS</th>\n",
       "      <td>26.963404</td>\n",
       "      <td>5.726716</td>\n",
       "      <td>373.412456</td>\n",
       "    </tr>\n",
       "    <tr>\n",
       "      <th>KFP</th>\n",
       "      <td>67.952571</td>\n",
       "      <td>19.829375</td>\n",
       "      <td>895.727634</td>\n",
       "    </tr>\n",
       "    <tr>\n",
       "      <th>LL</th>\n",
       "      <td>9.489132</td>\n",
       "      <td>1.911719</td>\n",
       "      <td>87.891624</td>\n",
       "    </tr>\n",
       "    <tr>\n",
       "      <th>OPS</th>\n",
       "      <td>18.735610</td>\n",
       "      <td>4.770276</td>\n",
       "      <td>216.724510</td>\n",
       "    </tr>\n",
       "    <tr>\n",
       "      <th>PS</th>\n",
       "      <td>25.169958</td>\n",
       "      <td>4.616395</td>\n",
       "      <td>335.483111</td>\n",
       "    </tr>\n",
       "    <tr>\n",
       "      <th>Wfin</th>\n",
       "      <td>208.428835</td>\n",
       "      <td>35.291380</td>\n",
       "      <td>3935.069997</td>\n",
       "    </tr>\n",
       "  </tbody>\n",
       "</table>\n",
       "</div>"
      ],
      "text/plain": [
       "       classification_time                         \n",
       "                      mean        min           max\n",
       "method                                             \n",
       "BoG             337.905256  29.160764   7998.894416\n",
       "CUMUL           362.895109  47.258360  13316.693496\n",
       "IPS              26.963404   5.726716    373.412456\n",
       "KFP              67.952571  19.829375    895.727634\n",
       "LL                9.489132   1.911719     87.891624\n",
       "OPS              18.735610   4.770276    216.724510\n",
       "PS               25.169958   4.616395    335.483111\n",
       "Wfin            208.428835  35.291380   3935.069997"
      ]
     },
     "execution_count": 9,
     "metadata": {},
     "output_type": "execute_result"
    }
   ],
   "source": [
    "df_results.groupby(\"method\").agg({\"classification_time\": ['mean','min','max']})"
   ]
  }
 ],
 "metadata": {
  "kernelspec": {
   "display_name": "Python 3",
   "language": "python",
   "name": "python3"
  },
  "language_info": {
   "codemirror_mode": {
    "name": "ipython",
    "version": 3
   },
   "file_extension": ".py",
   "mimetype": "text/x-python",
   "name": "python",
   "nbconvert_exporter": "python",
   "pygments_lexer": "ipython3",
   "version": "3.6.6"
  }
 },
 "nbformat": 4,
 "nbformat_minor": 2
}
