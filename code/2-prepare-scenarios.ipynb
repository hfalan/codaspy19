{
 "cells": [
  {
   "cell_type": "code",
   "execution_count": 1,
   "metadata": {},
   "outputs": [],
   "source": [
    "import pandas as pd\n",
    "from glob import glob\n",
    "from collections import defaultdict\n",
    "import itertools, sys, os, math\n",
    "import utils\n",
    "\n",
    "sys.path.insert(0, \"webpage_fingerprinting_methods/\")\n",
    "import webpage_fingerprinting_methods\n",
    "methods = webpage_fingerprinting_methods.methods"
   ]
  },
  {
   "cell_type": "code",
   "execution_count": 2,
   "metadata": {},
   "outputs": [],
   "source": [
    "df_visits = pd.read_csv(\"../data/visit_log.csv\")\n",
    "visit_files = glob(\"../data/visits_processed/*/*.json\")"
   ]
  },
  {
   "cell_type": "code",
   "execution_count": 3,
   "metadata": {},
   "outputs": [],
   "source": [
    "visit_id_to_visit_file = dict(zip(map(lambda x: x.split(\"/\")[-1][:-5], visit_files), visit_files))\n",
    "df_visits['visit_file'] = df_visits['visit_id'].apply(lambda visit_id: visit_id_to_visit_file[visit_id])"
   ]
  },
  {
   "cell_type": "markdown",
   "metadata": {},
   "source": [
    "# Create Scenarios"
   ]
  },
  {
   "cell_type": "code",
   "execution_count": 4,
   "metadata": {},
   "outputs": [],
   "source": [
    "scenarios_dir = \"../data/scenarios\""
   ]
  },
  {
   "cell_type": "code",
   "execution_count": 5,
   "metadata": {},
   "outputs": [],
   "source": [
    "hosts = df_visits.host.unique()\n",
    "client_ids = sorted(map(int, df_visits.client_id.unique()))\n",
    "urls = list(df_visits.current_url.unique())\n",
    "url_to_id = dict(zip(urls, range(len(urls))))"
   ]
  },
  {
   "cell_type": "code",
   "execution_count": 6,
   "metadata": {},
   "outputs": [],
   "source": [
    "assert len(hosts) == 7\n",
    "assert len(client_ids) == 19\n",
    "assert len(url_to_id) == 350"
   ]
  },
  {
   "cell_type": "code",
   "execution_count": 7,
   "metadata": {},
   "outputs": [],
   "source": [
    "client_host_url_visit_files = defaultdict(lambda : defaultdict(lambda: defaultdict(list)))\n",
    "for _, row in df_visits.iterrows():\n",
    "    client_host_url_visit_files[row['client_id']][row['host']][row['current_url']].append(row['visit_file'])"
   ]
  },
  {
   "cell_type": "code",
   "execution_count": 14,
   "metadata": {},
   "outputs": [],
   "source": [
    "def dump_scenario(scenario, use_21_training_samples=False):\n",
    "    os.makedirs(scenario['output_dir'])\n",
    "    utils.dump_json(scenario, os.path.join(scenario['output_dir'], \"scenario.json\"))\n",
    "\n",
    "\n",
    "    host = scenario['host']\n",
    "\n",
    "    if use_21_training_samples:\n",
    "        n_training_samples_from_each_client = math.ceil(21/len(scenario['training_client_ids']))\n",
    "    else:\n",
    "        n_training_samples_from_each_client = 21\n",
    "\n",
    "    training_visit_files = []\n",
    "    test_visit_files = []\n",
    "    visit_file_label = {}\n",
    "    \n",
    "    for client_id in scenario['training_client_ids']:\n",
    "        for url, visit_files in client_host_url_visit_files[client_id][host].items():\n",
    "            training_visit_files += visit_files[21-n_training_samples_from_each_client:21]\n",
    "            for visit_file in visit_files[21-n_training_samples_from_each_client:21]:\n",
    "                visit_file_label[visit_file] = url_to_id[url]\n",
    "\n",
    "    for url, visit_files in client_host_url_visit_files[scenario['test_client_id']][host].items():\n",
    "        test_visit_files += visit_files[21:28]\n",
    "        for visit_file in visit_files[21:28]:\n",
    "            visit_file_label[visit_file] = url_to_id[url]\n",
    "        \n",
    "    utils.dump_pickle([training_visit_files, test_visit_files, visit_file_label], \n",
    "                     os.path.join(scenario['output_dir'], \"split.pickle\"))\n",
    "    \n",
    "    \n",
    "def subdir_id_generator(num_sub_dirs):\n",
    "    i = 0\n",
    "    while True:\n",
    "        i = (i+1) % num_sub_dirs\n",
    "        yield str(i)\n",
    "        \n",
    "subdir_id = subdir_id_generator(100)\n",
    "for method in methods:\n",
    "    for host in hosts:\n",
    "        #train one test one client scenarios\n",
    "        #19 x 19 scenarios\n",
    "        for client_1, client_2 in list(itertools.product(client_ids, client_ids)):\n",
    "            scenario = {\n",
    "                \"name\": \"train_one_test_one\",\n",
    "                \"host\" : host,\n",
    "                \"method\" : method.get_name(),\n",
    "                \"training_client_ids\" : [client_1],\n",
    "                \"test_client_id\" : client_2,\n",
    "                \"output_dir\" : os.path.join(scenarios_dir, next(subdir_id), \"train_one_test_one_{}_{}_{}_{}\".format(method.get_name(), host, client_1, client_2)),\n",
    "            }\n",
    "            dump_scenario(scenario)        \n",
    "        \n",
    "        #test one train on remaining 18\n",
    "        # 19 scenarios\n",
    "        for test_client_id in client_ids:\n",
    "            training_client_ids = list(set(client_ids) - set([test_client_id]))\n",
    "            scenario = {\n",
    "                \"name\" : \"test_one_train_remaining\",\n",
    "                \"host\" : host,\n",
    "                \"method\" : method.get_name(),\n",
    "                \"training_client_ids\" : training_client_ids,\n",
    "                \"test_client_id\" : test_client_id,\n",
    "                \"output_dir\" : os.path.join(scenarios_dir, next(subdir_id), \"test_one_train_remaining_{}_{}_{}\".format(method.get_name(), host, test_client_id)),\n",
    "            }\n",
    "            dump_scenario(scenario)\n",
    "            \n",
    "            \n",
    "        # 15 scenarios\n",
    "        same_browser_client_ids_list = [\n",
    "            [1,2,3,4,5,6,7,8],\n",
    "            [10,11,12,13],\n",
    "            [16,17,18]\n",
    "        ]\n",
    "        for same_browser_client_ids_client_ids in same_browser_client_ids_list:\n",
    "            for client_id in same_browser_client_ids_client_ids:\n",
    "                scenario = {\n",
    "                    \"name\" : \"same_browser_21_training_samples\",\n",
    "                    \"host\" : host,\n",
    "                    \"method\" : method.get_name(),\n",
    "                    \"training_client_ids\" : list(set(same_browser_client_ids_client_ids)-set([client_id])),\n",
    "                    \"test_client_id\" : client_id,\n",
    "                    \"output_dir\" : os.path.join(scenarios_dir, next(subdir_id), \"same_browser_21_training_samples_{}_{}_{}\".format(method.get_name(), host, client_id)),\n",
    "                }\n",
    "                dump_scenario(scenario, use_21_training_samples=True)\n",
    "\n",
    "        # 13 scenarios\n",
    "        training_client_ids = [6,9,10,15,16,19]\n",
    "        for test_client_id in set(client_ids)-set(training_client_ids):\n",
    "            scenario = {\n",
    "                \"name\" : \"6_browser\",\n",
    "                \"host\" : host,\n",
    "                \"method\" : method.get_name(),\n",
    "                \"training_client_ids\" : training_client_ids,\n",
    "                \"test_client_id\" : test_client_id,\n",
    "                \"output_dir\" : os.path.join(scenarios_dir, next(subdir_id), \"6_browser_{}_{}_{}\".format(method.get_name(), host, test_client_id)),\n",
    "            }\n",
    "            dump_scenario(scenario)"
   ]
  },
  {
   "cell_type": "code",
   "execution_count": null,
   "metadata": {},
   "outputs": [],
   "source": []
  }
 ],
 "metadata": {
  "kernelspec": {
   "display_name": "Python 3",
   "language": "python",
   "name": "python3"
  },
  "language_info": {
   "codemirror_mode": {
    "name": "ipython",
    "version": 3
   },
   "file_extension": ".py",
   "mimetype": "text/x-python",
   "name": "python",
   "nbconvert_exporter": "python",
   "pygments_lexer": "ipython3",
   "version": "3.6.6"
  }
 },
 "nbformat": 4,
 "nbformat_minor": 2
}
