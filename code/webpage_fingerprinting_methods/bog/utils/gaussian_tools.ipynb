{
 "cells": [
  {
   "cell_type": "code",
   "execution_count": 11,
   "metadata": {},
   "outputs": [
    {
     "name": "stdout",
     "output_type": "stream",
     "text": [
      "Overwriting gaussian_tools.py\n"
     ]
    }
   ],
   "source": [
    "%%writefile gaussian_tools.py\n",
    "import itertools\n",
    "import numpy as np\n",
    "import os\n",
    "import random\n",
    "import re\n",
    "import multiprocessing\n",
    "from multiprocessing import Pool\n",
    "import time\n",
    "\n",
    "# CODE RELATED TO FITTING AND STORING GAUSSIANS\n",
    "\n",
    "def load_clusters(training_file, assignment_file):\n",
    "    clusters = {}\n",
    "    handle_training = open(training_file)\n",
    "    handle_assignments = open(assignment_file)\n",
    "    for (points, cluster) in zip(handle_training, handle_assignments):\n",
    "        points = re.match('.*1:(\\d+) 2:(\\d+).*', points).groups()\n",
    "        points = np.array(list(map(float, points))).reshape(1,2)\n",
    "        cluster = cluster.split()[0]\n",
    "        if cluster not in clusters:\n",
    "            clusters[cluster] = points\n",
    "        else:\n",
    "            clusters[cluster] = np.vstack([clusters[cluster], points])\n",
    "    handle_training.close()\n",
    "    handle_assignments.close()\n",
    "    return clusters\n",
    "\n",
    "def calc_mean(points):\n",
    "    return np.mean(points, axis = 0)\n",
    "\n",
    "def calc_covar(points):\n",
    "    mean = calc_mean(points)\n",
    "    tmp = np.array([1.0, 0.0, 0.0, 1.0]).reshape(2,2)\n",
    "    for p in points:\n",
    "        p -= mean\n",
    "        col = p.reshape(2,1)\n",
    "        row = p.reshape(1,2)\n",
    "        tmp += np.dot(col, row)\n",
    "    return tmp / (len(points) + 1)\n",
    "\n",
    "def generate_gaussians(training_file, assignment_file, gaussian_file):\n",
    "#     print('Generating Gaussians: %s' % gaussian_file)\n",
    "    clusters = load_clusters(training_file, assignment_file)\n",
    "    handle = open(gaussian_file, 'w')\n",
    "    for cluster in clusters:\n",
    "        mean = calc_mean(clusters[cluster])\n",
    "        covar = calc_covar(clusters[cluster])\n",
    "        handle.write('%s\\t%s\\t%s\\t%s\\t%s\\t%s\\n' % (mean[0], mean[1], covar[0,0], covar[0,1], covar[1,0], covar[1,1]))\n",
    "    handle.close()\n",
    "    \n",
    "# CODE RELATED TO FEATURE EXTRACTION\n",
    "\n",
    "def single_round(points, range_data, gaussian, num_samples):\n",
    "#     print('single_round: %s' % os.getpid())\n",
    "    coef, mean, covarinv = gaussian\n",
    "    adjusted = points - mean\n",
    "    likelihoods = coef * np.exp(-.5 * np.einsum('ij,ij->i', np.dot(adjusted, covarinv), adjusted))\n",
    "    scores = np.zeros(num_samples)\n",
    "    for (idx, start, end) in range_data:\n",
    "        scores[idx] = likelihoods[np.arange(start, end)].sum()\n",
    "    return scores / scores.max()\n",
    "    \n",
    "def get_gaussian_features(num_samples, pool, jobs):\n",
    "    args = []\n",
    "    for (points, range_data, gaussians) in jobs:\n",
    "        args.append([(points, range_data, gaussian, num_samples) for gaussian in gaussians])\n",
    "    args = list(itertools.chain(*args))\n",
    "    all_features = pool.starmap(single_round, args, 50)\n",
    "    all_features = np.column_stack(all_features)\n",
    "    return all_features"
   ]
  },
  {
   "cell_type": "code",
   "execution_count": null,
   "metadata": {
    "collapsed": true
   },
   "outputs": [],
   "source": []
  }
 ],
 "metadata": {
  "kernelspec": {
   "display_name": "Python 3",
   "language": "python",
   "name": "python3"
  },
  "language_info": {
   "codemirror_mode": {
    "name": "ipython",
    "version": 3
   },
   "file_extension": ".py",
   "mimetype": "text/x-python",
   "name": "python",
   "nbconvert_exporter": "python",
   "pygments_lexer": "ipython3",
   "version": "3.6.2"
  }
 },
 "nbformat": 4,
 "nbformat_minor": 2
}
