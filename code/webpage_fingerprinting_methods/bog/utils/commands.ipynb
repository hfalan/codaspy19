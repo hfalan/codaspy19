{
 "cells": [
  {
   "cell_type": "code",
   "execution_count": 7,
   "metadata": {},
   "outputs": [
    {
     "name": "stdout",
     "output_type": "stream",
     "text": [
      "Overwriting commands.py\n"
     ]
    }
   ],
   "source": [
    "%%writefile commands.py\n",
    "import subprocess\n",
    "import textwrap\n",
    "import re\n",
    "import os\n",
    "\n",
    "# function for issuing command line commands\n",
    "def issue_command(cmd):\n",
    "#     print('\\nIssuing: %s' % cmd)\n",
    "    try:\n",
    "        p0 = subprocess.Popen(cmd,\n",
    "                              stdout = subprocess.PIPE,\n",
    "                              stderr = subprocess.PIPE,\n",
    "                              shell = True, encoding='utf8')\n",
    "        (stdout, stderr) = p0.communicate()\n",
    "    except Exception as e:\n",
    "        print('Error occurred inovking command: %s' % cmd)\n",
    "        raise e\n",
    "    if p0.returncode == 0:\n",
    "        lines = stdout.split('\\n')\n",
    "        lines = map(lambda l: textwrap.fill(l, 80, initial_indent = '> ', subsequent_indent = '>>> '), lines)\n",
    "#         print('\\nCommand Successful: %s\\n%s' % (cmd, '\\n'.join(lines)))\n",
    "        return stdout, stderr\n",
    "    else:\n",
    "        lines = stderr.split('\\n')\n",
    "        lines = map(lambda l: textwrap.fill(l, 80, initial_indent = '> ', subsequent_indent = '>>> '), lines)\n",
    "        msg = 'Command \"%s\" returned non-zero exit code: %s\\n%s\\n' % (cmd, p0.returncode, '\\n'.join(lines))\n",
    "        raise Exception(msg)\n",
    "        \n",
    "# invoke sofia-ml to extract centroids\n",
    "def extract_centroids(out_file, training_file, k, init, batch_size, iterations):\n",
    "    cmd = [os.path.expanduser(\"~/software/sofia-ml-master/cluster-src/sofia-kmeans\"),\n",
    "           '--dimensionality 3',\n",
    "           '--k %d' % k,\n",
    "           '--init_type %s' % init,\n",
    "           '--opt_type mini_batch_kmeans',\n",
    "           '--mini_batch_size %s' % batch_size,\n",
    "           '--iterations %s' % iterations,\n",
    "           '--training_file %s' % training_file,\n",
    "           '--model_out %s' % out_file,\n",
    "           '--objective_after_init',\n",
    "           '--objective_after_training']\n",
    "    issue_command('  '.join(cmd))\n",
    "    \n",
    "# given centroids, assign points into clusters\n",
    "def generate_assignments(point_file, centroid_file, assignment_file):\n",
    "    cmd = [os.path.expanduser(\"~/software/sofia-ml-master/cluster-src/sofia-kmeans\"),\n",
    "           '--test_file %s' % point_file,\n",
    "           '--model_in %s' % centroid_file,\n",
    "           '--cluster_assignments_out %s' % assignment_file,\n",
    "           '--objective_on_test']\n",
    "    issue_command('  '.join(cmd))\n",
    "    \n",
    "# train a model given a file of features\n",
    "def train_model(training_features, model, args = ''):\n",
    "    cmd = [os.path.expanduser(\"~/software/liblinear-2.20/train\"),\n",
    "           '-q',\n",
    "           '%s' % args,\n",
    "           training_features,\n",
    "           model]\n",
    "    issue_command('  '.join(cmd))\n",
    "\n",
    "# make predictions given a model and feature file\n",
    "def predict(testing_features, model, prediction_file, accuracy_file, args = ''):\n",
    "    cmd = [os.path.expanduser(\"~/software/liblinear-2.20/predict\"),\n",
    "           '%s' % args,\n",
    "           testing_features,\n",
    "           model,\n",
    "           prediction_file]\n",
    "    stdout, _ = issue_command('  '.join(cmd))\n",
    "    accuracy, correct, total = re.match('Accuracy = ([0-9.]+)% \\((\\d+)/(\\d+)\\)', stdout).groups()\n",
    "    handle = open(accuracy_file, 'w')\n",
    "    handle.write('accuracy: %s\\ncorrect: %s\\ntotal: %s\\n' % (accuracy, correct, total))\n",
    "    handle.close()"
   ]
  },
  {
   "cell_type": "code",
   "execution_count": null,
   "metadata": {
    "collapsed": true
   },
   "outputs": [],
   "source": []
  }
 ],
 "metadata": {
  "kernelspec": {
   "display_name": "Python 3",
   "language": "python",
   "name": "python3"
  },
  "language_info": {
   "codemirror_mode": {
    "name": "ipython",
    "version": 3
   },
   "file_extension": ".py",
   "mimetype": "text/x-python",
   "name": "python",
   "nbconvert_exporter": "python",
   "pygments_lexer": "ipython3",
   "version": "3.6.2"
  }
 },
 "nbformat": 4,
 "nbformat_minor": 2
}
