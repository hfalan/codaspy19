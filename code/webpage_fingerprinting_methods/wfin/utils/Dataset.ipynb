{
 "cells": [
  {
   "cell_type": "code",
   "execution_count": 3,
   "metadata": {},
   "outputs": [
    {
     "name": "stdout",
     "output_type": "stream",
     "text": [
      "Overwriting dataset.py\n"
     ]
    }
   ],
   "source": [
    "%%writefile dataset.py\n",
    "import sys, random, os, glob, pickle, json, random, Config, math\n",
    "import pandas\n",
    "import numpy as np\n",
    "from collections import defaultdict\n",
    "\n",
    "from Packet import Packet\n",
    "from Trace import Trace\n",
    "from TCPConnection import TCPConnection\n",
    "import Utility\n",
    "\n",
    "import featureExtraction\n",
    "\n",
    "\n",
    "Config.hostname = dict() # hostname is used to extract features from hostname\n",
    "\n",
    "def getTrace(visit_file, direction=None):\n",
    "    with open(visit_file, 'r') as f:\n",
    "        sample = json.load(f)\n",
    "\n",
    "    Config.hostname.update(sample[u'ip_to_name'])\n",
    "    webId, traceId = sample['visit_log'][u'current_url'], sample['visit_log']['visit_id']\n",
    "    \n",
    "    trace = Trace(traceId, webId)\n",
    "    for tcp_conn in sample['tcp_connections']:\n",
    "        \n",
    "        connection_id = tcp_conn['connection_id']\n",
    "        \n",
    "        TCP = TCPConnection(connection_id, webId, hostip=sample['visit_log'][u'host_ip'])\n",
    "\n",
    "        for pkt in tcp_conn['packets']:\n",
    "            pkt_time, pkt_size = pkt[0], abs(pkt[1])\n",
    "            \n",
    "            if pkt_size == 0:\n",
    "                continue\n",
    "\n",
    "            pkt_dir = Packet.Outgoing if pkt[1] < 0 else Packet.Incoming\n",
    "\n",
    "            if direction is None or direction == pkt_dir:\n",
    "                TCP.addPacket(Packet(pkt_time, pkt_size, pkt_dir))\n",
    "        TCP._packets.sort(key=lambda x: x.getTime())\n",
    "        trace.addTcpCon(TCP)\n",
    "    \n",
    "    return trace\n",
    "\n",
    "def get_features(visit_file, SERVER_ADDRESS, HOST_NAMES, direction=None):\n",
    "    \"\"\"\n",
    "    visit_file : directory of a json file\n",
    "    direction - (Packet.Incoming, Packet.Outgoing, None):\n",
    "        consider only incoming or outgoing packets\n",
    "    \"\"\"\n",
    "    features = defaultdict(list)\n",
    "    trace = getTrace(visit_file, direction)\n",
    "    \n",
    "    features = defaultdict(list)\n",
    "    featureExtraction.getPacketSizeCount(features,trace,rvalue=8,firstN=False, )\n",
    "    featureExtraction.getPacketOrder(features,trace,firstN=False, )\n",
    "    featureExtraction.getCumulatedPacketSize(features,trace,firstN=False, )\n",
    "    featureExtraction.getInitialPackets(features,trace,firstN=False,In=False,Tol=False )\n",
    "    featureExtraction.getInitialPackets_TCP(features,trace,TCPNum=5,PacketNum=6)\n",
    "    featureExtraction.getTCPBytes(features,trace,In=False,Out=False,Tol=False,TT=False, TI=False, TO=False)\n",
    "\n",
    "    featureExtraction.burstInfo(trace)\n",
    "    featureExtraction.getBurstSizeCount(features,trace,rvalue=600,firstN=False,Count=False )\n",
    "    featureExtraction.getBurstNum(features,trace,firstN=False, In=False, Out=False, Tol=False)\n",
    "\n",
    "    featureExtraction.getSeverAddressBytes(features,trace, IPAddress=SERVER_ADDRESS, firstN=False, Tol=False, Ratio=False, TT=False, TI=False,TO=False)\n",
    "    ## one parameter of getSeverAddressBytes is IPAddress, which\n",
    "    ## indicates top 20 server IP addresses in the dataset\n",
    "    \n",
    "    featureExtraction.getHostNameBytes(features,trace,HOST_NAMES=HOST_NAMES, firstN=False,TT=False, TI=False,TO=False, )\n",
    "    ## one parameter of getHostNameBytes is HOST_NAMES, which\n",
    "    ## indicates top 20 hostnames in the dataset\n",
    "    \n",
    "    return features"
   ]
  },
  {
   "cell_type": "code",
   "execution_count": null,
   "metadata": {},
   "outputs": [],
   "source": []
  }
 ],
 "metadata": {
  "kernelspec": {
   "display_name": "Python 3",
   "language": "python",
   "name": "python3"
  },
  "language_info": {
   "codemirror_mode": {
    "name": "ipython",
    "version": 3
   },
   "file_extension": ".py",
   "mimetype": "text/x-python",
   "name": "python",
   "nbconvert_exporter": "python",
   "pygments_lexer": "ipython3",
   "version": "3.6.6"
  }
 },
 "nbformat": 4,
 "nbformat_minor": 2
}
