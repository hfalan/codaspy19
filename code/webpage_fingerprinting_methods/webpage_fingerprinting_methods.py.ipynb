{
 "cells": [
  {
   "cell_type": "code",
   "execution_count": 1,
   "metadata": {},
   "outputs": [
    {
     "name": "stdout",
     "output_type": "stream",
     "text": [
      "Writing webpage_fingerprinting_methods.py\n"
     ]
    }
   ],
   "source": [
    "%%writefile webpage_fingerprinting_methods.py\n",
    "from ps import PS\n",
    "from ips import IPS\n",
    "from ops import OPS\n",
    "from liberatore import Liberatore\n",
    "from bog import BoG\n",
    "from cumul import Cumul\n",
    "from kfp import KFP\n",
    "from wfin import Wfin\n",
    "methods = [PS, IPS, OPS, Liberatore, BoG, Cumul, KFP, Wfin]"
   ]
  },
  {
   "cell_type": "code",
   "execution_count": null,
   "metadata": {},
   "outputs": [],
   "source": []
  }
 ],
 "metadata": {
  "kernelspec": {
   "display_name": "Python 3",
   "language": "python",
   "name": "python3"
  },
  "language_info": {
   "codemirror_mode": {
    "name": "ipython",
    "version": 3
   },
   "file_extension": ".py",
   "mimetype": "text/x-python",
   "name": "python",
   "nbconvert_exporter": "python",
   "pygments_lexer": "ipython3",
   "version": "3.6.6"
  }
 },
 "nbformat": 4,
 "nbformat_minor": 2
}
