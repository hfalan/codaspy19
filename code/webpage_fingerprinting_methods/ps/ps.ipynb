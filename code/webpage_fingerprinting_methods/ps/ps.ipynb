{
 "cells": [
  {
   "cell_type": "code",
   "execution_count": 1,
   "metadata": {},
   "outputs": [
    {
     "name": "stdout",
     "output_type": "stream",
     "text": [
      "Overwriting ps.py\n"
     ]
    }
   ],
   "source": [
    "%%writefile ps.py\n",
    "from sklearn.ensemble import RandomForestClassifier\n",
    "from sklearn.pipeline import Pipeline\n",
    "from sklearn.feature_extraction import DictVectorizer\n",
    "from collections import Counter\n",
    "from multiprocessing import Pool\n",
    "import json\n",
    "import os\n",
    "\n",
    "class PS():\n",
    "    @classmethod\n",
    "    def get_name(cls):\n",
    "        return \"PS\"\n",
    "    \n",
    "    def get_x(self, visit_file):\n",
    "        with open(visit_file) as f:\n",
    "            visit = json.load(f)\n",
    "        packet_sizes = []\n",
    "        for connection in visit['tcp_connections']:\n",
    "            packet_sizes += [x[1] for x in connection['packets']]\n",
    "        return Counter(packet_sizes)\n",
    "    \n",
    "    def get_x_all(self, visit_files, n_cpu):\n",
    "        with Pool(n_cpu) as pool:\n",
    "            return list(pool.map(self.get_x, visit_files))\n",
    "            \n",
    "    def classify(self, train_visit_files, test_visit_files, visit_file_label, output_dir, n_cpu):\n",
    "        train_x = self.get_x_all(train_visit_files, n_cpu)\n",
    "        train_y = list([visit_file_label[x] for x in train_visit_files])\n",
    "        \n",
    "        test_x = self.get_x_all(test_visit_files, n_cpu)\n",
    "        test_y = list([visit_file_label[x] for x in test_visit_files])\n",
    "\n",
    "        classifier = Pipeline([\n",
    "            ('vectorize', DictVectorizer()),\n",
    "            (\"classify\", RandomForestClassifier(n_jobs=n_cpu, n_estimators=1000))\n",
    "        ])\n",
    "        classifier.fit(train_x, train_y)\n",
    "        score = classifier.score(test_x, test_y)\n",
    "        return score"
   ]
  },
  {
   "cell_type": "code",
   "execution_count": null,
   "metadata": {},
   "outputs": [],
   "source": []
  }
 ],
 "metadata": {
  "kernelspec": {
   "display_name": "Python 3",
   "language": "python",
   "name": "python3"
  },
  "language_info": {
   "codemirror_mode": {
    "name": "ipython",
    "version": 3
   },
   "file_extension": ".py",
   "mimetype": "text/x-python",
   "name": "python",
   "nbconvert_exporter": "python",
   "pygments_lexer": "ipython3",
   "version": "3.6.6"
  }
 },
 "nbformat": 4,
 "nbformat_minor": 2
}
